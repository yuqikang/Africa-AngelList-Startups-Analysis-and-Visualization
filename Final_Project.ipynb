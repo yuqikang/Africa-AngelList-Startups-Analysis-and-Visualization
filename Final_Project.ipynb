{
 "cells": [
  {
   "cell_type": "markdown",
   "metadata": {},
   "source": [
    "# Final Project\n",
    "\n",
    "**Group Name: Winter is Coming** <br>\n",
    "**Group Slogan: Make you frozen**<br>\n",
    "**Group Member: Yilin Xia, Wentao Cheng, Xiner Liu, Yuqi Kang**\n",
    "\n",
    "## Basic Information\n",
    "\n",
    "* Dataset name: Angelist Startups in Africa\n",
    "* Data Source: Data.world \n",
    "* URL:https://data.world/omayeli/angelist-startups-in-africa\n",
    "* License: **Public Domain**\n",
    "The work has been dedicated to the public domain by waiving all rights to the work worldwide under copyright law, including all related and neighboring rights, to the extent allowed by law. \n",
    "* General Information: 41 files represent the data collected from 41 countries,5.48 MB\n",
    "\n",
    "\n",
    "## Operation in Advance\n",
    "* Download the Zip file and unzip, then upload to the root directory folder \"Africa\"\n",
    "* Combine the several documents into one name add new column \"country\"\n",
    "\n",
    "\n",
    "## Extra Data\n",
    "* twitter data 6917\n",
    "* sort by date in order to show the latest news about angllist startups in Africa"
   ]
  },
  {
   "cell_type": "code",
   "execution_count": 1,
   "metadata": {},
   "outputs": [],
   "source": [
    "import pandas as pd\n",
    "import glob2\n",
    "data=pd.read_csv(\"Africa_Data.csv\")\n",
    "del data[\"Unnamed: 0\"]"
   ]
  },
  {
   "cell_type": "code",
   "execution_count": 2,
   "metadata": {},
   "outputs": [
    {
     "data": {
      "text/plain": [
       "Index(['id', 'community_profile', 'name', 'angellist_url', 'logo_url',\n",
       "       'thumb_url', 'quality', 'product_desc', 'high_concept',\n",
       "       'follower_count', 'company_url', 'created_at', 'updated_at',\n",
       "       'crunchbase_url', 'twitter_url', 'blog_url', 'facebook_url',\n",
       "       'linkedin_url', 'video_url', 'markets', 'locations', 'company_size',\n",
       "       'company_type', 'status', 'screenshots', 'Country'],\n",
       "      dtype='object')"
      ]
     },
     "execution_count": 2,
     "metadata": {},
     "output_type": "execute_result"
    }
   ],
   "source": [
    "data.columns"
   ]
  },
  {
   "cell_type": "markdown",
   "metadata": {},
   "source": [
    "## Data Exploration\n",
    "**Dataset Columns and Rows**<br />\n",
    "4197rows and 26 columns\n",
    "\n",
    "**Dataset Types** <br />except id is int64, community_profile is boolean, all others are object\n",
    "\n",
    "**Missing Data** <br />From the percentage of null values in each attribute, it's easy to tell that except id, community_profile, name, angellist_url, logo_url, thumb_url, quality, follower_count, created_at, updated_at, markets, locations,Country, other attributes loose a lot of values.<br/><pre>\n",
    "id                    0.000000\n",
    "community_profile     0.000000\n",
    "name                  0.047653\n",
    "angellist_url         0.000000\n",
    "logo_url              0.000000\n",
    "thumb_url             0.000000\n",
    "quality               0.000000\n",
    "product_desc          6.290207\n",
    "high_concept          2.644746\n",
    "follower_count        0.000000\n",
    "company_url           4.693829\n",
    "created_at            0.000000\n",
    "updated_at            0.000000\n",
    "crunchbase_url       79.580653\n",
    "twitter_url          72.218251\n",
    "blog_url             89.563974\n",
    "facebook_url         73.743150\n",
    "linkedin_url         85.704074\n",
    "video_url            85.632595\n",
    "markets               0.000000\n",
    "locations             0.071480\n",
    "company_size         50.083393\n",
    "company_type         67.953300\n",
    "status               93.376221\n",
    "screenshots          70.026209\n",
    "Country               0.000000</pre>\n",
    "\n",
    "**Explain the attributes** <br/>\n",
    "* **id** unique number for each company in the database but not for the record\n",
    "* **community_profile** This company has or do not have community profile. According to the result after groupby, more companies do not have community profile\n",
    "* **name** Company Name\n",
    "* **angellist_url** Company website on Angellist\n",
    "* **logo_url** Company logo\n",
    "* **thumb_url** Company logo in square shape\n",
    "* **quality** Quality ranges from 0-10, and raw data contains two unusual values (False and True)\n",
    "* **product_desc** The description of product companies produce\n",
    "* **high_concept** Some hign concept the company need or create\n",
    "* **follower_count** Number of Funders\n",
    "* **markets** Related markets like country or industry\n",
    "* **locations** detailed locations including cities\n",
    "* **Country** Which country the company belongs to\n",
    "* <br/>\n",
    "* **company_size** The number of people the company contains, some unusual category appears\n",
    "* **company_type** The type of the company like techonology or startups\n",
    "* **status** Delete ( No useful information)\n",
    "* **screenshots** Screenshot of the company official website\n",
    "\n",
    "## Expected Result\n",
    "\n",
    "According to the goal we want to achieve, we filter the columns to get what we need.\n",
    "* **African Interactive Map**: country, id\n",
    "* **WordCloud**: product_desc, high_concept, markets\n",
    "* **Bar Chart**: quality, follower count, twitter_url\n",
    "* **Detailed Information**: id, community profile, name, angellist_url, thumb_url, company_url\n",
    "<img src=\"Default/Exp_1.png\">\n",
    "<img src=\"Default/Exp_2.png\">\n",
    "<img src=\"Default/Exp_3.png\">\n",
    "\n",
    "## Data Cleaning\n",
    "* Replace the country name based on the \"word_map_codes.csv\"\n",
    "* Delete the quality column which contains False and True\n",
    "* Transfer elements in quality and follower count column into int"
   ]
  },
  {
   "cell_type": "code",
   "execution_count": 3,
   "metadata": {},
   "outputs": [],
   "source": [
    "word_map_code=pd.read_csv(\"Default/world_map_codes.csv\")\n",
    "#result: Central_african_republic-Central African Republic/ South_africa-South Africa /Sierra_leone-Sierra Leone\n",
    "for num in range(len(data)):\n",
    "    if data.iloc[num,-1]==\"Central_african_republic\":\n",
    "        data.iloc[num,-1]=\"Central African Republic\"\n",
    "    elif data.iloc[num,-1]==\"South_africa\":\n",
    "        data.iloc[num,-1]=\"South Africa\"\n",
    "    elif data.iloc[num,-1]==\"Sierra_leone\":\n",
    "        data.iloc[num,-1]=\"Sierra Leone\"\n",
    "#for data_coun in data[\"Country\"].unique():\n",
    "    #if data_coun not in word_map_code[\"Name\"].unique():\n",
    "        #print(data_coun)\n",
    "\n",
    "country_cont=data.groupby('Country').count()['id'].reset_index()\n",
    "country_cont.columns=[\"Country\",\"Count\"]\n",
    "\n",
    "#Add Other Africa Name\n",
    "country_codes=pd.read_csv(\"Default/country_codes.csv\")\n",
    "for name in country_codes[country_codes[\"Continent\"]==\"Africa\"][\"Name\"].unique():\n",
    "    if name not in country_cont[\"Country\"].unique():\n",
    "        temp_row = []\n",
    "        temp_row.insert(0, {'Country': name, 'Count': 0})\n",
    "        country_cont=pd.concat([pd.DataFrame(temp_row),country_cont], ignore_index=True,sort=False)\n",
    "#Create a dic to search the name and id\n",
    "name_dic=dict()\n",
    "for row in range(len(word_map_code)):\n",
    "    name_dic[word_map_code.iloc[row,0]]=word_map_code.iloc[row,3]\n",
    "    \n",
    "#name_dic[country_cont.iloc[0,1]]\n",
    "\n"
   ]
  },
  {
   "cell_type": "code",
   "execution_count": 4,
   "metadata": {},
   "outputs": [],
   "source": [
    "#delete the quality and follower columns containing True or False\n",
    "data=data[data['quality']!=\"False\"]\n",
    "data=data[data['quality']!=\"True\"]\n",
    "data=data[data['follower_count']!=\"False\"]\n",
    "data=data[data['follower_count']!=\"True\"]\n",
    "# data[\"quality\"].unique()\n",
    "data[\"quality\"] = pd.to_numeric(data[\"quality\"])\n",
    "data[\"follower_count\"] = pd.to_numeric(data[\"follower_count\"])"
   ]
  },
  {
   "cell_type": "code",
   "execution_count": 5,
   "metadata": {},
   "outputs": [],
   "source": [
    "tw=pd.read_csv(\"Default/twitter_data.csv\")\n",
    "Detailed_info = data[['Country', 'name', 'angellist_url', 'company_url']]"
   ]
  },
  {
   "cell_type": "markdown",
   "metadata": {},
   "source": [
    "## Project Design"
   ]
  },
  {
   "cell_type": "code",
   "execution_count": 6,
   "metadata": {},
   "outputs": [],
   "source": [
    "import bqplot\n",
    "from ipywidgets import Button, GridBox, Layout, ButtonStyle\n",
    "import ipywidgets as widgets\n",
    "import pandas as pd\n",
    "import nltk\n",
    "from wordcloud import WordCloud\n",
    "from wordcloud import STOPWORDS\n",
    "import pandas as pd\n",
    "import matplotlib.pyplot as plt\n",
    "import matplotlib.image as mpimg"
   ]
  },
  {
   "cell_type": "code",
   "execution_count": 7,
   "metadata": {},
   "outputs": [],
   "source": [
    "co_id=[]\n",
    "for row in range(len(country_cont)):\n",
    "    co_id.append(name_dic[country_cont.iloc[row,1]])\n",
    "country_cont[\"id\"]=co_id\n",
    "country_cont=country_cont[[\"id\",\"Count\"]]\n",
    "dic=dict()\n",
    "for row in range(len(country_cont)):\n",
    "    dic[country_cont.iloc[row,0]]=country_cont.iloc[row,1]"
   ]
  },
  {
   "cell_type": "code",
   "execution_count": 8,
   "metadata": {},
   "outputs": [],
   "source": [
    "import bqplot\n",
    "col_sc=bqplot.ColorScale(scheme=\"Blues\")\n",
    "c_ax=bqplot.ColorAxis(scale=col_sc,orientation=\"vertical\",side=\"right\",tick_style={\"font-size\":7})\n",
    "def_tt = bqplot.Tooltip(fields=[\"name\"])\n",
    "map_mark = bqplot.Map(scales={'projection': bqplot.Mercator(center=(6.61,20.93),scale_factor=500),'color':col_sc}, \n",
    "                      color=dic,\n",
    "                      tooltip=def_tt, \n",
    "                      interactions = { \"click\":\"select\",'hover': 'tooltip'},\n",
    "                      selected_styles={\"selected_fill\": \"Red\"},\n",
    "                      hovered_styles={\"hovered_fill\": \"Orange\"})\n",
    "fig=bqplot.Figure(marks=[map_mark], axes=[c_ax], title='Angellist Startups in Africa')\n",
    "africa_map = mpimg.imread('Default/Africa_Map.jpg')\n",
    "image_pro = widgets.Image(width=250,height=75,)\n",
    "image_pro.value = open(\"Default/Africa_Map.jpg\", \"rb\").read()\n",
    "image_high = widgets.Image(width=250,height=75,)\n",
    "image_high.value = open(\"Default/Africa_Map.jpg\", \"rb\").read()\n",
    "image_mark = widgets.Image(width=250,height=75,)\n",
    "image_mark.value = open(\"Default/Africa_Map.jpg\", \"rb\").read()\n",
    "#===============================================\n",
    "\n",
    "ta1=widgets.Textarea(layout=widgets.Layout(width='95%', height='100px'),disabled=False)\n",
    "ta2=widgets.Textarea(layout=widgets.Layout(width='95%', height='100px'))\n",
    "ta3=widgets.Textarea(layout=widgets.Layout(width='95%', height='100px'))\n",
    "ta4=widgets.Textarea(layout=widgets.Layout(width='95%', height='100px'))\n",
    "ip=widgets.IntProgress()\n",
    "button_plus=widgets.Button(description=\"Next Page>>>\",\n",
    "                           style=widgets.ButtonStyle(button_color='lightblue'))\n",
    "button_minus=widgets.Button(description=\"<<<Previous Page\",\n",
    "                           style=widgets.ButtonStyle(button_color='moccasin'))\n",
    "\n",
    "#===============================================\n",
    "country0=widgets.Text()\n",
    "name0=widgets.Text()\n",
    "angel0=widgets.Text()\n",
    "company0=widgets.Text()\n",
    "\n",
    "country=widgets.Text()\n",
    "name=widgets.Text()\n",
    "angel=widgets.Text()\n",
    "company=widgets.Text()\n",
    "tab1 = widgets.Tab(children=[country,name,angel,company])\n",
    "tab1.set_title(0,'Country')\n",
    "tab1.set_title(1,'Company_name')\n",
    "tab1.set_title(2,'Angellist_url')\n",
    "tab1.set_title(3,'Company_url')\n",
    "\n",
    "x=widgets.Select(\n",
    "    options=[],\n",
    "    #value='',\n",
    "    #rows=10,\n",
    "    description='Company:',\n",
    "    disabled=False\n",
    ")\n",
    "\n",
    "#===============================================\n",
    "def click_down(event):\n",
    "    ip.value -= 4\n",
    "    ta1.value=sel_tw[ip.value]\n",
    "    ta2.value=sel_tw[ip.value+1]\n",
    "    ta3.value=sel_tw[ip.value+2]\n",
    "    ta4.value=sel_tw[ip.value+3]\n",
    "button_minus.on_click(click_down)\n",
    "\n",
    "def click_up(event):\n",
    "    if ip.value>=len(sel_tw)-4:\n",
    "        ip.value=ip.value\n",
    "    else:\n",
    "        ip.value += 4\n",
    "        ta1.value=sel_tw[ip.value]\n",
    "        ta2.value=sel_tw[ip.value+1]\n",
    "        ta3.value=sel_tw[ip.value+2]\n",
    "        ta4.value=sel_tw[ip.value+3]\n",
    "button_plus.on_click(click_up)\n",
    "tw_=widgets.VBox([widgets.VBox([ta1,ta2,ta3,ta4]),\n",
    "              widgets.HBox([button_minus,  button_plus])])\n",
    "\n",
    "def print_info(event): \n",
    "    names=event[\"new\"]\n",
    "    if names is None:\n",
    "        pass\n",
    "    else:\n",
    "        number=name0.value.split(',').index(names)\n",
    "        tab1.children[0].value=country0.value.split(',')[number]\n",
    "        tab1.children[1].value=name0.value.split(',')[number]\n",
    "        tab1.children[2].value=angel0.value.split(',')[number]\n",
    "        tab1.children[3].value=company0.value.split(',')[number]\n",
    "\n",
    "def list_to_string(data):\n",
    "    text_list=data.tolist()\n",
    "    text_string=','.join(str(t) for t in text_list)\n",
    "    return text_string\n",
    "def show_wordcloud(data,mask_pic):\n",
    "    text_list=data.tolist()\n",
    "    text_string=''.join(str(t) for t in text_list)\n",
    "    wordcloud = WordCloud(mask=mask_pic,background_color='white',scale=10,stopwords=STOPWORDS).generate(text_string)\n",
    "    return wordcloud\n",
    "\n",
    "def selection_changed(event):\n",
    "    global sel_data\n",
    "    global sel_cos\n",
    "    global sel_tw\n",
    "    sel_data=pd.DataFrame()\n",
    "    sel_cos=[]\n",
    "    sel_tw=[]\n",
    "    if event[\"new\"] is None:\n",
    "        image_pro.value = open(\"Default/Africa_Map.jpg\", \"rb\").read()\n",
    "        image_high.value = open(\"Default/Africa_Map.jpg\", \"rb\").read()\n",
    "        image_mark.value = open(\"Default/Africa_Map.jpg\", \"rb\").read()\n",
    "        hist = bqplot.Hist(scales = {'sample': x_sc, 'count': y_sc})\n",
    "        widgets.link((hist,\"sample\"),(hists,\"sample\"))\n",
    "        ta1.value=\"\"\n",
    "        ta2.value=\"\"\n",
    "        ta3.value=\"\"\n",
    "        ta4.value=\"\"\n",
    "        x.options=[]\n",
    "        country.value=\"\"\n",
    "        name.value=\"\"\n",
    "        angel.value=\"\"\n",
    "        company.value=\"\"\n",
    "        pass\n",
    "    else:\n",
    "        for sel_co in event[\"new\"]:\n",
    "            sel_cos.append(\n",
    "                word_map_code[word_map_code[\"ISON3\"]==int(sel_co)][\"Name\"].values[0])\n",
    "    \n",
    "    for co in sel_cos:\n",
    "        for tweet in tw[tw[\"country\"]==co][\"Tweets\"]:\n",
    "            sel_tw.append(tweet)\n",
    "    for sel_co in sel_cos:\n",
    "        sel_data=sel_data.append(data[data[\"Country\"]==sel_co])\n",
    "    #selected countries: sel_cos\n",
    "    #selected data: sel_data\n",
    "    #selected twitter: sel_tw\n",
    "    product_desc=show_wordcloud(data['product_desc'],africa_map)    \n",
    "    product_desc.to_file('product_desc.png')\n",
    "    markets=show_wordcloud(data['markets'],africa_map)\n",
    "    markets.to_file('markets.png')\n",
    "    high_concept=show_wordcloud(data['high_concept'],africa_map)\n",
    "    high_concept.to_file('high_concept.png')\n",
    "    image_pro.value = open(\"product_desc.png\", \"rb\").read()\n",
    "    image_mark.value = open(\"markets.png\", \"rb\").read()\n",
    "    image_high.value = open(\"high_concept.png\", \"rb\").read()\n",
    "    \n",
    "    if len(sel_data)>0:\n",
    "        hist=bqplot.Hist(sample = sel_data[\"quality\"],\n",
    "                        scales = {'sample': x_sc, 'count': y_sc})\n",
    "        widgets.link((hist,\"sample\"),(hists,\"sample\"))\n",
    "    else:\n",
    "        pass\n",
    "    if len(sel_tw)>=4:\n",
    "        ta1.value=sel_tw[ip.value]\n",
    "        ta2.value=sel_tw[ip.value+1]\n",
    "        ta3.value=sel_tw[ip.value+2]\n",
    "        ta4.value=sel_tw[ip.value+3]  \n",
    "    #==========================================\n",
    "    #Please edit here\n",
    "    if len(sel_cos)==0:\n",
    "        pass\n",
    "    else:\n",
    "        company_data = pd.DataFrame()\n",
    "        for row in sel_cos:\n",
    "            company_data=pd.concat([company_data,Detailed_info.loc[Detailed_info['Country'] == row]])\n",
    "            #a = (company_data.name.values).tolist()\n",
    "        country0.value=list_to_string(company_data['Country'])\n",
    "        name0.value=list_to_string(company_data['name'])\n",
    "        angel0.value=list_to_string(company_data['angellist_url'])\n",
    "        company0.value=list_to_string(company_data['company_url'])\n",
    "        x.options=company_data['name'].tolist()\n",
    "\n",
    "        \n",
    "        "
   ]
  },
  {
   "cell_type": "code",
   "execution_count": 9,
   "metadata": {},
   "outputs": [],
   "source": [
    "#Map and Image\n",
    "map_mark.observe(selection_changed,\"selected\")   \n",
    "Pro_WK1=\"A product description is the marketing copy used to describe a product's \"\n",
    "Pro_WK2=\"value proposition to potential customers.\"\n",
    "Mark_WK1=\"A market is one of the many varieties of systems, institutions, procedures\"\n",
    "Mark_WK2=\"social relations and infrastructures whereby parties engage in exchange. \"\n",
    "High_WK1=\"High-concept is a type of artistic work that can be easily pitched with\"\n",
    "High_WK2=\"a succinctly stated premise.\"\n",
    "\n",
    "list_widgets  = [\n",
    "    widgets.VBox([image_pro, widgets.Label(Pro_WK1),widgets.Label(Pro_WK2)]),\n",
    "    widgets.VBox([image_mark, widgets.Label(Mark_WK1), widgets.Label(Mark_WK2)]),\n",
    "    widgets.VBox([image_high, widgets.Label(High_WK1),widgets.Label(High_WK2)]),]\n",
    "\n",
    "tab = widgets.Tab(children=list_widgets, \n",
    "                  layout=Layout(width='50%', height='420px'))\n",
    "\n",
    "tab.set_title(0, 'Product Description')\n",
    "tab.set_title(1, 'Markets')\n",
    "tab.set_title(2, 'High Concept')\n",
    "#Histagram\n",
    "x_sc = bqplot.LinearScale()\n",
    "y_sc = bqplot.LinearScale()\n",
    "x_ax = bqplot.Axis(scale = x_sc,label=\"Quality Category\",tick_style={\"font-size\":8},tick_format=\"0f\")\n",
    "y_ax = bqplot.Axis(scale = y_sc, label=\"Quality Count\",orientation=\"vertical\",tick_style={\"font-size\":8})\n",
    "hists = bqplot.Hist(scales = {'sample': x_sc, 'count': y_sc})\n",
    "fig1 = bqplot.Figure(marks = [hists], axes = [x_ax, y_ax],title='Quality Score by Area')\n",
    "\n",
    "#Compnay Detail\n",
    "x.observe(print_info,names='value')"
   ]
  },
  {
   "cell_type": "code",
   "execution_count": 10,
   "metadata": {},
   "outputs": [
    {
     "data": {
      "application/vnd.jupyter.widget-view+json": {
       "model_id": "48124d234fc640fa95293ae413bbecaf",
       "version_major": 2,
       "version_minor": 0
      },
      "text/plain": [
       "HBox(children=(Figure(axes=[ColorAxis(orientation='vertical', scale=ColorScale(scheme='Blues'), side='right', …"
      ]
     },
     "metadata": {},
     "output_type": "display_data"
    }
   ],
   "source": [
    "widgets.HBox([fig,tab])"
   ]
  },
  {
   "cell_type": "code",
   "execution_count": 11,
   "metadata": {},
   "outputs": [
    {
     "data": {
      "application/vnd.jupyter.widget-view+json": {
       "model_id": "362a14c966a3439e9dfd85a90a3956c9",
       "version_major": 2,
       "version_minor": 0
      },
      "text/plain": [
       "HBox(children=(Figure(axes=[ColorAxis(orientation='vertical', scale=ColorScale(scheme='Blues'), side='right', …"
      ]
     },
     "metadata": {},
     "output_type": "display_data"
    }
   ],
   "source": [
    "widgets.HBox([fig,fig1])"
   ]
  },
  {
   "cell_type": "code",
   "execution_count": 12,
   "metadata": {
    "scrolled": false
   },
   "outputs": [
    {
     "data": {
      "application/vnd.jupyter.widget-view+json": {
       "model_id": "b07dfbfba3434144a568b315c5790c30",
       "version_major": 2,
       "version_minor": 0
      },
      "text/plain": [
       "HBox(children=(Figure(axes=[ColorAxis(orientation='vertical', scale=ColorScale(scheme='Blues'), side='right', …"
      ]
     },
     "metadata": {},
     "output_type": "display_data"
    }
   ],
   "source": [
    "widgets.HBox([fig,tw_])"
   ]
  },
  {
   "cell_type": "code",
   "execution_count": 13,
   "metadata": {},
   "outputs": [
    {
     "data": {
      "application/vnd.jupyter.widget-view+json": {
       "model_id": "afe53b6fc50d422ca1f493eb95b6fce3",
       "version_major": 2,
       "version_minor": 0
      },
      "text/plain": [
       "VBox(children=(Figure(axes=[ColorAxis(orientation='vertical', scale=ColorScale(scheme='Blues'), side='right', …"
      ]
     },
     "metadata": {},
     "output_type": "display_data"
    },
    {
     "data": {
      "application/vnd.jupyter.widget-view+json": {
       "model_id": "c56b843c13ad4de990038dab104860fc",
       "version_major": 2,
       "version_minor": 0
      },
      "text/plain": [
       "Select(description='Company:', options=(), value=None)"
      ]
     },
     "metadata": {},
     "output_type": "display_data"
    },
    {
     "data": {
      "application/vnd.jupyter.widget-view+json": {
       "model_id": "a2d52bd25af74b95a89d386aefe3266e",
       "version_major": 2,
       "version_minor": 0
      },
      "text/plain": [
       "Tab(children=(Text(value=''), Text(value=''), Text(value=''), Text(value='')), _titles={'0': 'Country', '1': '…"
      ]
     },
     "metadata": {},
     "output_type": "display_data"
    }
   ],
   "source": [
    "display(widgets.VBox([fig]))\n",
    "display(x)\n",
    "display(tab1)"
   ]
  },
  {
   "cell_type": "code",
   "execution_count": null,
   "metadata": {},
   "outputs": [],
   "source": []
  }
 ],
 "metadata": {
  "kernelspec": {
   "display_name": "Python 3",
   "language": "python",
   "name": "python3"
  },
  "language_info": {
   "codemirror_mode": {
    "name": "ipython",
    "version": 3
   },
   "file_extension": ".py",
   "mimetype": "text/x-python",
   "name": "python",
   "nbconvert_exporter": "python",
   "pygments_lexer": "ipython3",
   "version": "3.7.0"
  }
 },
 "nbformat": 4,
 "nbformat_minor": 2
}
