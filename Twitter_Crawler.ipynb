{
 "cells": [
  {
   "cell_type": "code",
   "execution_count": null,
   "metadata": {},
   "outputs": [],
   "source": [
    "# General:\n",
    "import tweepy           # To consume Twitter's API\n",
    "import pandas as pd     # To handle data\n",
    "import numpy as np      # For number computing\n",
    "# For plotting and visualization:\n",
    "from IPython.display import display\n",
    "import matplotlib.pyplot as plt\n",
    "import seaborn as sns\n",
    "%matplotlib inline\n",
    "# Twitter App access keys for @user\n",
    "# Consume:\n",
    "CONSUMER_KEY    = # secret key\n",
    "CONSUMER_SECRET = # secret key\n",
    "# Access:\n",
    "ACCESS_TOKEN  = # secret key\n",
    "ACCESS_SECRET = # secret key\n",
    "# We import our access keys:\n",
    "from credentials import *    # This will allow us to use the keys as variables\n",
    "# API's setup:\n",
    "def twitter_setup():\n",
    "    # Authentication and access using keys:\n",
    "    auth = tweepy.OAuthHandler(CONSUMER_KEY, CONSUMER_SECRET)\n",
    "    auth.set_access_token(ACCESS_TOKEN, ACCESS_SECRET)\n",
    "    # Return API with authentication:\n",
    "    api = tweepy.API(auth)\n",
    "    return api\n",
    "\n",
    "\n",
    "data=pd.read_csv(\"Africa_Data.csv\")\n",
    "del data[\"Unnamed: 0\"]\n",
    "tw_data=data.dropna(subset=['twitter_url'],how=\"all\")[[\"twitter_url\",\"Country\"]].reset_index(drop=True)\n",
    "temp_name=[]\n",
    "for row in range(len(tw_data)):\n",
    "    temp_name.append(tw_data[\"twitter_url\"][row].split(\"/\")[-1])\n",
    "tw_data[\"tw_name\"]=temp_name\n",
    "\n",
    "\n",
    "\n",
    "full_data=pd.DataFrame()\n",
    "def target_startup(tw_name):\n",
    "    global full_data\n",
    "    extractor = twitter_setup()\n",
    "    tweets = extractor.user_timeline(screen_name=tw_name, count=10)\n",
    "    data = pd.DataFrame(data=[tweet.text for tweet in tweets], columns=['Tweets'])\n",
    "    data['Date'] = np.array([tweet.created_at for tweet in tweets])\n",
    "    data[\"tw_name\"]=tw_name\n",
    "    data[\"country\"]=tw_data[tw_data[\"tw_name\"]==tw_name][\"Country\"].values[0]\n",
    "    full_data=full_data.append(data)\n",
    "#print(dir(tweets[0]))\n",
    "\n",
    "\n",
    "for tw_name in tw_data[\"tw_name\"]:\n",
    "    try:\n",
    "        target_startup(tw_name)\n",
    "    except:\n",
    "        print (\"This is an error message about:\"+str(tw_name))"
   ]
  },
  {
   "cell_type": "code",
   "execution_count": null,
   "metadata": {},
   "outputs": [],
   "source": [
    "full_data=full_data.sort_values(by=\"Date\",ascending=False).reset_index(drop=True)"
   ]
  },
  {
   "cell_type": "code",
   "execution_count": null,
   "metadata": {},
   "outputs": [],
   "source": [
    "full_data.to_csv(\"twitter_data.csv\")"
   ]
  }
 ],
 "metadata": {
  "kernelspec": {
   "display_name": "Python 3",
   "language": "python",
   "name": "python3"
  },
  "language_info": {
   "codemirror_mode": {
    "name": "ipython",
    "version": 3
   },
   "file_extension": ".py",
   "mimetype": "text/x-python",
   "name": "python",
   "nbconvert_exporter": "python",
   "pygments_lexer": "ipython3",
   "version": "3.7.0"
  }
 },
 "nbformat": 4,
 "nbformat_minor": 2
}
